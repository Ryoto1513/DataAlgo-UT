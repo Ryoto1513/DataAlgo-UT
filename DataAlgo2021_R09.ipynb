{
  "nbformat": 4,
  "nbformat_minor": 0,
  "metadata": {
    "colab": {
      "name": "DataAlgo2021-R09",
      "provenance": [],
      "collapsed_sections": [],
      "authorship_tag": "ABX9TyMfmjDRjbxaw/y0cmFd/kLi",
      "include_colab_link": true
    },
    "kernelspec": {
      "name": "python3",
      "display_name": "Python 3"
    }
  },
  "cells": [
    {
      "cell_type": "markdown",
      "metadata": {
        "id": "view-in-github",
        "colab_type": "text"
      },
      "source": [
        "<a href=\"https://colab.research.google.com/github/kameda-yoshinari/DataAlgo-UT/blob/main/DataAlgo2021_R09.ipynb\" target=\"_parent\"><img src=\"https://colab.research.google.com/assets/colab-badge.svg\" alt=\"Open In Colab\"/></a>"
      ]
    },
    {
      "cell_type": "markdown",
      "metadata": {
        "id": "-SqpuNOEWS-a"
      },
      "source": [
        "# データ構造とアルゴリズム 第9週課題 (2021/06/09 ver.A)\n",
        "\n",
        "---\n",
        "\n",
        "\n",
        "★下記３要素を**必ず直接書き換えてから**提出すること．\n",
        "\n",
        "* 学籍番号：（ここに記入；例 202099998）\n",
        "* 氏名：（ここに記入；例 筑波太郎）\n",
        "* Colabアカウント：（ここに記入；例 tsukuba.taro.xs@alumni.tsukuba.ac.jp）\n",
        "\n",
        "**学生同士で教えた・教わった・グループワークをした場合，必ず下記の当該行を直接書き換えて記述すること．**  \n",
        "申告があった場合は，論述などで内容が似ていたり，プログラムが似ていても減点はしない．（コピペレベルの同一文などは処罰対象）  \n",
        "**教えた側は加点対象となる．**\n",
        "\n",
        "**[教えた側]**  \n",
        "教えた相手：＜氏名＞　＜学籍番号＞  \n",
        "（何名いてもよい；教えた相手の内容が浅くなってないか確認すること）\n",
        "\n",
        "**[教わった側]**  \n",
        "教わった相手：＜氏名＞　＜学籍番号＞  \n",
        "（何名いてもよい；必ず教えた側に自分の名前を書いてもらうこと）\n",
        "\n",
        "**[グループワーク]**  \n",
        "一緒に行った相手：＜氏名＞　＜学籍番号＞  \n",
        "（何名いてもよいが，必ずお互いの名前を全員記すこと）"
      ]
    },
    {
      "cell_type": "markdown",
      "metadata": {
        "id": "8NUVKBVvmvtw"
      },
      "source": [
        "---\n",
        "# 必須課題9A ナップサック問題の計算量に関する考察    \n",
        "\n",
        "Knsapsack-bf_Jプログラム, Knapsack-bt_Jプログラム, およびKnapsack-bb_Jプログラムそれぞれについて，時間計算量と空間計算量について考察せよ．特に，時間計算量については，幾つかのプログラムにおいては，計算量が同じになってしまう状況が考えられる．そのことについても言及せよ．\n",
        "\n"
      ]
    },
    {
      "cell_type": "markdown",
      "metadata": {
        "id": "j_LNv7qr2Jcq"
      },
      "source": [
        "（議論はここに記述）"
      ]
    },
    {
      "cell_type": "markdown",
      "metadata": {
        "id": "aExQhnAcClQB"
      },
      "source": [
        "---\n",
        "# 必須課題9B ナップサック問題を解くプログラムの計算量の実測  \n",
        "Knsapsack-bf_Jプログラム, Knapsack-bt_Jプログラム, およびKnapsack-bb_Jプログラムのそれぞれについて，計算量を実際に測定せよ．pickobject()関数の呼び出し回数を数えるプログラムを作成し，その数で3プログラムの計算コストを比較すること．ナップサックの重み制限を変更して，その変化を表にまとめること．重み制限を変えて10回以上実験すること．（つまり下記の表で10行以上のデータが集まるようにすること)\n",
        "結果を表にまとめ，考察もすること．  \n",
        "計算量の測定方法については，解候補を数える方法と今回の方法との差と優劣についても論じること．  \n",
        "\n",
        "|制限|bf|bt|bb|\n",
        "|---|--|--|--|\n",
        "|100|???|???|???|\n",
        "|200|???|???|???|\n",
        "|...|???|???|???|\n"
      ]
    },
    {
      "cell_type": "markdown",
      "metadata": {
        "id": "RplBC85KCrzP"
      },
      "source": [
        "（議論はここに記述）"
      ]
    },
    {
      "cell_type": "markdown",
      "metadata": {
        "id": "TjOgrYW8lAmy"
      },
      "source": [
        "---\n",
        "# 必須課題9C 問題の置換にかかる計算量  \n",
        "整数ナップサック問題(6.3.参照)を最長経路問題に変換するのに必要な時間計算量と空間計算量を，導出過程を含めて示せ．整数ナップサック問題の品物の数を正整数N，ナップサック重量制限を正整数Wとする．なお，整数ナップサック問題では，各品物の重量は正整数で表される．"
      ]
    },
    {
      "cell_type": "markdown",
      "metadata": {
        "id": "B9Z8A8xin-Ru"
      },
      "source": [
        "（議論はここに記述）"
      ]
    },
    {
      "cell_type": "markdown",
      "metadata": {
        "id": "B6j6tdS-btea"
      },
      "source": [
        "---\n",
        "---\n",
        "# 発展課題9X 最小全域木を求めるプリムのアルゴリズム  \n",
        "最小全域木を求めるプリムのアルゴリズムを解説し，最小経路問題の解法の一つであるダイクストラのアルゴリズムとの相似点について言及せよ．何かしらの出典を見て纏めるであろうから，その出典をURL等で明確に示すこと．\n"
      ]
    },
    {
      "cell_type": "markdown",
      "metadata": {
        "id": "m_OmABYtcQYH"
      },
      "source": [
        "（議論はここに記述）"
      ]
    },
    {
      "cell_type": "markdown",
      "metadata": {
        "id": "c7rf54NjW5f2"
      },
      "source": [
        "---\n",
        "---\n",
        "# 課題提出法 \n",
        "\n",
        "筑波大学工学システム学類３年生向け．  \n",
        "FG24711 / FG34711．  \n",
        "\n",
        "必須課題は全て実施すること．\n",
        "発展課題はしなくともよいが，A+取得には発展課題を（全課題提出を通して）1つ以上実施していることが必要条件である．\n",
        "\n",
        "該当するmanabaに課題提出のエントリを設けるので，そこに本**Colab notebookを提出**すること．また，Google Drive上の該当する**Colab notebookへの共有リンク**を用意し合わせて提出すること．（採点時の効率を高めるために共有リンクの方を使うかもしれません）\n",
        "\n",
        "![共有可能なリンク](https://docs.google.com/drawings/d/e/2PACX-1vTDuOu8Z1nZFTqJ0yMKXedJwDnZx0hiKXoL56h21kQrDRj4C52aQX7Nn9QJZFZAgKV32lxTzuvNlory/pub?w=508&h=403)\n",
        "\n",
        "\n",
        "\n",
        "\n"
      ]
    },
    {
      "cell_type": "markdown",
      "metadata": {
        "id": "20Ihcqd8Bz5w"
      },
      "source": [
        "\n",
        "# 出典\n",
        "\n",
        "筑波大学工学システム学類  \n",
        "データ構造とアルゴリズム  \n",
        "担当：亀田能成  \n",
        "2021/06/16. ver.A  \n"
      ]
    }
  ]
}