{
  "nbformat": 4,
  "nbformat_minor": 0,
  "metadata": {
    "colab": {
      "name": "DataAlgo_UT(016)_FPTAS",
      "provenance": [],
      "collapsed_sections": [],
      "authorship_tag": "ABX9TyNsEzE4SEhly7E/RNBEWiSq",
      "include_colab_link": true
    },
    "kernelspec": {
      "name": "python3",
      "display_name": "Python 3"
    }
  },
  "cells": [
    {
      "cell_type": "markdown",
      "metadata": {
        "id": "view-in-github",
        "colab_type": "text"
      },
      "source": [
        "<a href=\"https://colab.research.google.com/github/kameda-yoshinari/DataAlgo-UT/blob/main/DataAlgo_UT(016)_FPTAS.ipynb\" target=\"_parent\"><img src=\"https://colab.research.google.com/assets/colab-badge.svg\" alt=\"Open In Colab\"/></a>"
      ]
    },
    {
      "cell_type": "markdown",
      "metadata": {
        "id": "yRmydXneMgT8"
      },
      "source": [
        "# 8.2. FPTAS\n",
        "\n",
        "本節では，近似精度と計算量との関係についてさらに学習する．\n",
        "\n",
        "\n",
        "\n",
        "\n",
        "**いつもの約束**  \n",
        "１つのコードセルだけの実行は Ctrl + Enter．  \n",
        "エディタで「インデント幅（スペース）は4で表示」「行番号を表示」「インデントガイドを表示」．  \n",
        "内部では日本語はUTF-8で表現されている．\n"
      ]
    },
    {
      "cell_type": "markdown",
      "metadata": {
        "id": "CdQdV_MJIlce"
      },
      "source": [
        "# 準備\n",
        "\n",
        "インスタンスに接続し起動する．  \n",
        "下記の手順でGoogle Driveをマウントする．  \n",
        "マウント先に移動し，作業フォルダとする．  \n",
        "これによって，インスタンスがリセットされてもGoogle Drive内にファイルが保存されるようにする．"
      ]
    },
    {
      "cell_type": "code",
      "metadata": {
        "id": "DMtqXRXJIPMR"
      },
      "source": [
        "!echo \"Google Driveをマウントします\"\n",
        "from google.colab import drive \n",
        "drive.mount('/content/drive')"
      ],
      "execution_count": null,
      "outputs": []
    },
    {
      "cell_type": "code",
      "metadata": {
        "id": "SABzmuELIaj2"
      },
      "source": [
        "!echo \"今回の作業用フォルダを作成しそこに移動します\"\n",
        "%cd /content/drive/My\\ Drive/\n",
        "%mkdir -p 202004_DataAlgo/DA2021_016\n",
        "%cd       202004_DataAlgo/DA2021_016\n",
        "!ls\n",
        "!echo \"日本時間表示\"\n",
        "!rm /etc/localtime\n",
        "!ln -s /usr/share/zoneinfo/Japan /etc/localtime\n",
        "!date"
      ],
      "execution_count": null,
      "outputs": []
    },
    {
      "cell_type": "markdown",
      "metadata": {
        "id": "4s3BWazcz1FB"
      },
      "source": [
        "# FPTAS\n",
        "\n",
        "近似解を多項式時間で得る近似アルゴリズムはいつも発明発見できるわけではない．\n",
        "実際，多くの研究努力がこの近似アルゴリズムの発明発見に費やされている．  \n",
        "\n",
        "今，最小値問題において，α近似アルゴリズムが見つかったとする．(α>=1)\n",
        "\n",
        "8.1.節の例ではα=2と固定値であったが，これでは使い勝手がよくない．\n",
        "\n",
        "そこで，α=1+ε (ε>0) とし，任意のεについて解を求めることができる近似アルゴリズムを，特に Polynomial Time Approximation Scheme (PTAS) と呼ぶ．\n",
        "\n",
        "これは大変にありがたいアルゴリズムである．\n",
        "\n",
        "もちろんそんなにうまい話があるはずがなく，多くの場合，ε→0にしていくときに，その小ささ（多くの場合は 1/ε）に対して指数的に計算時間が必要となってしまうことが多い．\n",
        "\n",
        "ところが，ごく稀にこの 1/ε に対して計算時間の増加が1/εの多項式時間でしか増加しないアルゴリズムが発明発見されることがある．この近似アルゴリズムのことを，特に敬意を込めて，Fully Polynomial Time Approximation Scheme (FPTAS) と呼ぶ．\n",
        "\n",
        "\n",
        "\n",
        "\n",
        "\n",
        "\n"
      ]
    },
    {
      "cell_type": "markdown",
      "metadata": {
        "id": "dd-hVe7gXiCk"
      },
      "source": [
        "# ナップサック問題におけるFPTASアルゴリズム\n",
        "\n",
        "6.3.節で取り上げたn個に対する0-1ナップサック問題について再び取り上げる．\n",
        "\n",
        "ナップサック問題は最大化問題なので，任意のε(ε>0)について，最適解に対して近似解が 1-ε の近似比率まで近づけることを考える．\n",
        "\n",
        "ここで，物体 i の価値を Vi, 重さを Wi とする．また，n個の中で(重さに関係なく)最大価値の物品の価値を Vmax とする．\n",
        "\n",
        "\n",
        "1．K = ε Vmax / n というKを導入する．\n",
        "2. V'i = floor(Vi / K) とする．ここでfloor関数は小数点以下を切り捨てる関数である．\n",
        "3. 各物体iが (V'i, Wi) }で表される問題を修正ナップサック問題と呼ぶ．修正ナップサック問題での修正最適解 {X'} を求める．(X'iは 0 か 1)\n",
        "4. 「修正最適解 {X'i}による価値合計」とVmaxとを比較し，評価値の高いほうを近似解{Xa}とする．\n",
        "\n",
        "**計算時間**\n",
        "\n",
        "問題になるのは手順3である．\n",
        "\n",
        "実は，0-1ナップサック問題は，物体数 n だけではなく，ナップサックの重量制限 w も考慮に入れると，計算時間は O(n w) とすることができる．このことは実際に後でプログラムを見て確認してみよう．\n",
        "\n",
        "**精度**\n",
        "\n",
        "解候補を{X}と表す(各要素が0又は1であるn次元ベクトル）．    \n",
        "V({X})は解{X}に対する元問題での価値合計を示す．  \n",
        "V'({X})は解{X}に対する修正問題での価値合計を示す．  \n",
        "{Xopt} は元問題での最適解．  \n",
        "{X'} は修正問題での最適解（修正最適解)．  \n",
        "{Xa} は近似解．\n",
        "\n",
        "- n K = ε Vmax ... 定義より\n",
        "- V'i = floor(Vi / K) ... 定義より\n",
        "- 0 < Vi - K V'i < K ... floor関数を展開\n",
        "- 0 < V({X}) - K V'({X}) < n K ... 上式は n 個まとめても成立\n",
        "- V'({Xopt}) < V'({X'}) ... 修正問題V'({X})についての最適解は{Xopt}ではなくあくまで{X'}であるため\n",
        "- Vmax <= V({Xa}) ... 上記で手順4.としているため当然\n",
        "\n",
        "これらを組み合わせていくことで，以下が導出できる．\n",
        "\n",
        "- V({Xa}) >= (1 / (1+ε)) V({Xopt}) > (1-ε) V({Xopt})\n",
        "\n",
        "\n"
      ]
    },
    {
      "cell_type": "markdown",
      "metadata": {
        "id": "5QkNub1bXi1l"
      },
      "source": [
        "# ナップサック問題を解くCプログラム\n",
        "\n",
        "**アルゴリズム**\n",
        "\n",
        "価値が正整数であることを仮定し，仮想的に「ぴったりM万円」のナップサックを多数そろえているとイメージすると分かりやすいだろう．もしぴったしM万円のナップサックを作る組み合わせが幾つかあるのなら，軽い方がよい．\n",
        "\n",
        "物品番号0から(L81-82)、順に考慮すべき対象を徐々に(L85のループ)増やしていく．\n",
        "\n",
        "**計算時間**\n",
        "\n",
        "計算時間についてこのプログラムを観察すると，O(N * v_range) になっている．  \n",
        "プログラムに書かれているように，v_range = N * VDasgNax なので，結局 O(N^2 * VDashmax) と言える．\n",
        "\n",
        "このプログラムは修正問題を扱っているので，プログラム内のVDasgMaxは，元問題の変数で表すと次のようになる．\n",
        "\n",
        "- VDashMax = floor(Vmax / K)\n",
        "\n",
        "これはすなわち\n",
        "\n",
        "- VDashMax = floor(n / ε)\n",
        "\n",
        "であるから，結局，\n",
        "\n",
        "- O(n^2 * VDashmax) = O(n^2 * floor(n / ε) = O(n^3 / ε)\n",
        "\n",
        "つまり n と 1/ε の両方について多項式時間オーダーである． \n",
        "\n",
        "**備考**\n",
        "\n",
        "本プログラムは，動的計画法と呼ばれるアルゴリズム構造をしている．  \n",
        "Floydのアルゴリズムとの類似性を見てみること．\n",
        "\n"
      ]
    },
    {
      "cell_type": "code",
      "metadata": {
        "id": "X_5uO6h1-mw-"
      },
      "source": [
        "%%writefile Knapsack-DP-value.c\n",
        "// Pseudo-polynomial Time Algorithm for Knapsack\n",
        "//   for FPTAS Knapsack solution\n",
        "//   kameda[at]ccs.tsukuba.ac.jp, 2021.\n",
        "#include <stdio.h>\n",
        "#include <stdlib.h> // calloc()\n",
        "\n",
        "// Example-A: max value 280 = (15, 100, 90, 60, 0, 15, 0 ,0) at weight 111\n",
        "// Example-B: max value  24 = () at weight 17\n",
        "\n",
        "#define EXAMPLE_A\n",
        "\n",
        "#ifdef EXAMPLE_A\n",
        "#define WEIGHT_LIMIT 112\n",
        "#define N 8 // Number of object classes, Not number of objects\n",
        "struct {\n",
        "\tint v; // value\n",
        "\tint w; // weight\n",
        "} obj[N] = {\n",
        "\t{ 15,  6},\n",
        "\t{100, 20},\n",
        "\t{ 90, 25},\n",
        "\t{ 60, 30},\n",
        "\t{ 40, 40},\n",
        "\t{ 15, 30},\n",
        "\t{ 10, 60},\n",
        "\t{  3, 10}\n",
        "};\n",
        "#endif\n",
        "\n",
        "#ifdef EXAMPLE_B\n",
        "#define WEIGHT_LIMIT 17\n",
        "#define N 5 // Number of object classes, Not number of objects\n",
        "struct {\n",
        "\tint v; // value\n",
        "\tint w; // weight\n",
        "} obj[N] = {\n",
        "\t{  4,  3},\n",
        "\t{  5,  4},\n",
        "\t{ 10,  7},\n",
        "\t{ 11,  8},\n",
        "\t{ 13,  9}\n",
        "};\n",
        "#endif\n",
        "\n",
        "// Pseudo-polynomial Time Algorithm for Knapsack Problem\n",
        "int knapsack_byvalue(void) {\n",
        "\tint\tVDashMax = 0; // largest value among objects\n",
        "\tint v_range = 0; // value range, it should be the sum of all weights (less than largetvalue * N)\n",
        "\tint *ns[N]; // S: ns[i][value], i = 0 - N-1, value = 0 - N * VDashMax : object-ID to pick\n",
        "\tint *nw[N]; // A: nw[i][value], i = 0 - N-1, value = 0 - N * VDashMax : weight of the knapsack, -1:infinite\n",
        "\tint max_v = 0;\n",
        "\tint max_w = 0;\n",
        "\tint i;\n",
        "\tint p;\n",
        "\tint ncalc = 0;\n",
        "\n",
        "\t// Find the largest value\n",
        "\tfor (i = 0; i < N; i++)\n",
        "\t\tif (VDashMax < obj[i].v) VDashMax = obj[i].v;\n",
        "\tv_range = N * VDashMax;\n",
        "\n",
        "\t// Online memory allocation\n",
        "\tfor (i = 0; i < N; i++) {\n",
        "\t\tif ((ns[i] = (int *)calloc(v_range, sizeof(*ns[i]))) == NULL || (nw[i] = (int *)calloc(v_range, sizeof(*ns[i]))) == NULL) {\n",
        "\t\t\tprintf(\"Failed to malloc %d integers at %d.\\n\", v_range, i);\n",
        "\t\t\treturn -1;\n",
        "\t\t}\n",
        "\t}\n",
        "\n",
        "\t// Initialization\n",
        "\tfor (i = 0; i < N; i++) {\n",
        "\t\tfor (p = 0; p <= N * VDashMax; p++) {\n",
        "\t\t\tns[i][p] = -1;\n",
        "\t\t\tnw[i][p] = -1;\n",
        "\t\t}\n",
        "\t}\n",
        "\tns[0][0] = -1; // nothing to pick\n",
        "\tnw[0][0] = 0;  // empty knapsack\n",
        "\n",
        "\tns[0][obj[0].v] = 0; // Object-ID:0\n",
        "\tnw[0][obj[0].v] = obj[0].w; // Initial weight of object-ID:0\n",
        "\n",
        "\t// Core loop\n",
        "\tfor (i = 1; i < N; i++) {\n",
        "\t\t// Do nothing before obj[i].v\n",
        "\t\tfor (p = 0; p < obj[i].v; p++) {\n",
        "\t\t\tnw[i][p] = nw[i-1][p];\n",
        "\t\t\tncalc++;\n",
        "\t\t}\n",
        "\t\t// Examine to make the knapsack of value=p lighter\n",
        "\t\tfor (p = obj[i].v; p <= v_range; p++) {\n",
        "\t\t\tif ((nw[i-1][p - obj[i].v] >= 0) &&\n",
        "\t\t\t\t((nw[i-1][p] >= 0 && nw[i-1][p - obj[i].v] + obj[i].w < nw[i-1][p]) || (nw[i-1][p] < 0))) {\n",
        "\t\t\t\tnw[i][p] = nw[i-1][p - obj[i].v] + obj[i].w;\n",
        "\t\t\t\tns[i][p] = i; // Pick Object-i here (yes/no)\n",
        "\t\t\t} else {\n",
        "\t\t\t\tnw[i][p] = nw[i-1][p];\n",
        "\t\t\t}\n",
        "\t\t\tncalc++;\n",
        "\t\t}\n",
        "\n",
        "\t\tif (0) { // Check the array if you wish by changing 0 to 1\n",
        "\t\t\tint k;\n",
        "\t\t\tprintf(\"ObjectID = %d\\n\", i);\n",
        "\t\t\tfor (k = 0; k <= v_range; k++) printf(\"%3d \", k); printf(\"\\n\");\n",
        "\t\t\tfor (k = 0; k <= v_range; k++) \tprintf(\"%3d \", nw[i][k]); printf(\"\\n\");\n",
        "\t\t\tfor (k = 0; k <= v_range; k++) \tprintf(\"%3d \", ns[i][k]); printf(\"\\n\");\n",
        "\t\t}\n",
        "\t}\n",
        "\n",
        "\t// Find the answer\n",
        "\tfor (p = 0; p <= v_range; p++) {\n",
        "\t\tif (max_v < p && nw[N-1][p] <= WEIGHT_LIMIT && nw[N-1][p] >= 0) {\n",
        "\t\t\tmax_v = p;\n",
        "\t\t\tmax_w = nw[N-1][p];\n",
        "\t\t}\n",
        "\t}\n",
        "\tprintf(\"Answer: max_v = %d, max_w = %d\\n\", max_v, max_w);\n",
        "\tfor (i = N - 1, p = max_v; i >= 0; i--) {\n",
        "\t\tprintf(\"Object %d (total value = %3d): \", i, p);\n",
        "\t\tif (ns[i][p] >= 0) {\n",
        "\t\t\tprintf(\"pick\\n\");\n",
        "\t\t\tp = p - obj[i].v;\n",
        "\t\t} else {\n",
        "\t\t\tprintf(\"----\\n\");\n",
        "\t\t\tp = p; // stand-by at the same value\n",
        "\t\t}\n",
        "\t}\n",
        "\tif (0) { // To verify ns[N][] and nw[N][]\n",
        "\t\tint k,ii;\n",
        "\t\tfor (k = 0; k <= v_range; k++) {\n",
        "\t\t\tint cc = 0;\n",
        "\t\t\tfor (ii = 0; ii < N; ii++) {\n",
        "\t\t\t\tif (ns[ii][k] >= 0)\n",
        "\t\t\t\t\tcc++;\n",
        "\t\t\t}\n",
        "\t\t\tprintf (\"%3d \", cc);\n",
        "\t\t}\n",
        "\t}\n",
        "\tprintf(\"Calculation = %d (Est. %d = %d * %d * %d)\\n\", ncalc, v_range * N, N, N, VDashMax);\n",
        "\treturn 0;\n",
        "}\n",
        "\n",
        "// Main function\n",
        "int main(int argc, char *argv[]) {\n",
        "\tknapsack_byvalue();\n",
        "\treturn 0;\n",
        "}\n"
      ],
      "execution_count": null,
      "outputs": []
    },
    {
      "cell_type": "markdown",
      "metadata": {
        "id": "R2CEPCWpAQDD"
      },
      "source": [
        "コンパイル．デバック（学習）用にとコンパクトに書いたL105-17で親切にもWarningが出る（が意図して行っているので無視）．  \n",
        "(逆に言えばこのレベルの気遣いまで今のコンパイラはしてくれている）"
      ]
    },
    {
      "cell_type": "code",
      "metadata": {
        "id": "UcFL-3AR8XSu"
      },
      "source": [
        "!gcc -Wall -o Knapsack-DP-value Knapsack-DP-value.c"
      ],
      "execution_count": null,
      "outputs": []
    },
    {
      "cell_type": "markdown",
      "metadata": {
        "id": "CxBI4UbEcB9L"
      },
      "source": [
        "実行してみよう．EXAMPLE_Aだけでなく，EXAMPLE_Bでも試してみること．"
      ]
    },
    {
      "cell_type": "code",
      "metadata": {
        "id": "O3zzVD4tcA3h"
      },
      "source": [
        "!./Knapsack-DP-value"
      ],
      "execution_count": null,
      "outputs": []
    },
    {
      "cell_type": "markdown",
      "metadata": {
        "id": "bStYIhaRc_Ng"
      },
      "source": [
        "時間計算量が頂点数に対して多項式時間であることを確認しておくこと．\n",
        "\n",
        "余談であるが，巡回セールスマン問題に対してPTASアルゴリズムがあることが発見されたのはつい最近の1998年である．（私がこの授業の受け持つようになったのは2003年）この授業は，それぐらい最近の研究成果にまで近付いているのである．"
      ]
    },
    {
      "cell_type": "markdown",
      "metadata": {
        "id": "DY_MbwoPf_9h"
      },
      "source": [
        "# 節末課題\n",
        "\n",
        "1. ナップサック問題におけるFPTASアルゴリズムの精度保証  \n",
        "ナップサック問題におけるFPTASアルゴリズムの精度の考察について，V({Xa}) > (1-ε) V({Xopt})を実際に導出せよ  \n",
        "\n",
        "\n",
        "2. 動的計画法アルゴリズムによる類似性\n",
        "今回の Knapsack-DP-value.c が，以前に授業で行った shortest-floyd_J.c と類似している点について，この二つが同じ動的計画法アルゴリズムであるとの観点から述べよ．\n",
        "\n",
        "\n",
        "\n",
        "\n",
        "\n",
        "\n",
        "\n"
      ]
    },
    {
      "cell_type": "markdown",
      "metadata": {
        "id": "cZ-1SycnqxVa"
      },
      "source": [
        "# 出典\n",
        "\n",
        "筑波大学工学システム学類  \n",
        "データ構造とアルゴリズム  \n",
        "担当：亀田能成  \n",
        "2021/06/23 初版"
      ]
    }
  ]
}