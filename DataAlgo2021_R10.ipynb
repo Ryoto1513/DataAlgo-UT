{
  "nbformat": 4,
  "nbformat_minor": 0,
  "metadata": {
    "colab": {
      "name": "DataAlgo2021-R10",
      "provenance": [],
      "collapsed_sections": [],
      "authorship_tag": "ABX9TyO6cahl+Zajp7+GPbTFby79",
      "include_colab_link": true
    },
    "kernelspec": {
      "name": "python3",
      "display_name": "Python 3"
    }
  },
  "cells": [
    {
      "cell_type": "markdown",
      "metadata": {
        "id": "view-in-github",
        "colab_type": "text"
      },
      "source": [
        "<a href=\"https://colab.research.google.com/github/kameda-yoshinari/DataAlgo-UT/blob/main/DataAlgo2021_R10.ipynb\" target=\"_parent\"><img src=\"https://colab.research.google.com/assets/colab-badge.svg\" alt=\"Open In Colab\"/></a>"
      ]
    },
    {
      "cell_type": "markdown",
      "metadata": {
        "id": "-SqpuNOEWS-a"
      },
      "source": [
        "# データ構造とアルゴリズム 遅延提出（第10週） (2021/06/23　ver.A)\n",
        "\n",
        "---\n",
        "\n",
        "\n",
        "★下記３要素を**必ず直接書き換えてから**提出すること．\n",
        "\n",
        "* 学籍番号：（ここに記入；例 202099998）\n",
        "* 氏名：（ここに記入；例 筑波太郎）\n",
        "* Colabアカウント：（ここに記入；例 tsukuba.taro.xs@alumni.tsukuba.ac.jp）\n",
        "\n",
        "**学生同士で教えた・教わった・グループワークをした場合，必ず下記の当該行を直接書き換えて記述すること．**  \n",
        "申告があった場合は，論述などで内容が似ていたり，プログラムが似ていても減点はしない．（コピペレベルの同一文などは処罰対象）  \n",
        "**教えた側は加点対象となる．**\n",
        "\n",
        "**[教えた側]**  \n",
        "教えた相手：＜氏名＞　＜学籍番号＞  \n",
        "（何名いてもよい；教えた相手の内容が浅くなってないか確認すること）\n",
        "\n",
        "**[教わった側]**  \n",
        "教わった相手：＜氏名＞　＜学籍番号＞  \n",
        "（何名いてもよい；必ず教えた側に自分の名前を書いてもらうこと）\n",
        "\n",
        "**[グループワーク]**  \n",
        "一緒に行った相手：＜氏名＞　＜学籍番号＞  \n",
        "（何名いてもよいが，必ずお互いの名前を全員記すこと）"
      ]
    },
    {
      "cell_type": "markdown",
      "metadata": {
        "id": "06jbrR6R7DO_"
      },
      "source": [
        "#【事由】\n",
        "\n",
        "* 課題1AはCovid19に伴う自宅待機で，かつネットワーク事情により期日までに講義内容および課題にアクセスできなかった．（先生に事前連絡済み）\n",
        "* （特に理由がない場合は記述の必要なし．ただし減点項約30%の適用対象となる）"
      ]
    },
    {
      "cell_type": "markdown",
      "metadata": {
        "id": "8NUVKBVvmvtw"
      },
      "source": [
        "---\n",
        "# 必須課題10A FPTASの概念説明    \n",
        "\n",
        "FPTASを満たすアルゴリズムの一般的な性質について述べよ．精度保証と計算量との関係については授業解説レベルで丁寧に説明すること．その後，0-1ナップサック問題におけるＦPTAS近似アルゴリズムについて，精度と計算量がどのような関係にあるか述べよ（導出は必要ない）\n",
        "\n",
        "\n"
      ]
    },
    {
      "cell_type": "markdown",
      "metadata": {
        "id": "j_LNv7qr2Jcq"
      },
      "source": [
        "議論はここに"
      ]
    },
    {
      "cell_type": "markdown",
      "metadata": {
        "id": "YI2_FQ2TPCP0"
      },
      "source": [
        "---\n",
        "# 必須課題10B ミーリーマシンのファイルからの読み込み    \n",
        "\n",
        "ミーリーマシンを定義するテキストファイルを用意し，それを読み込んで実行するCプログラムを作成せよ．ただし，入力文字・出力として考えるのは0-9の数字のみでよい．また，状態は0以上の整数で表すこと．また，受理状態についても考慮しなくてよい．テキストファイルの形式については各自で考えてよいが，解説をつけること．  \n",
        "\n",
        "\n"
      ]
    },
    {
      "cell_type": "markdown",
      "metadata": {
        "id": "sQlduWikPdus"
      },
      "source": [
        "解説等はここに．"
      ]
    },
    {
      "cell_type": "code",
      "metadata": {
        "id": "n4p3VCMVPjuj"
      },
      "source": [
        "マシン定義用のテキストファイル．"
      ],
      "execution_count": null,
      "outputs": []
    },
    {
      "cell_type": "code",
      "metadata": {
        "id": "jbtwp43YPghw"
      },
      "source": [
        "プログラムコード．"
      ],
      "execution_count": null,
      "outputs": []
    },
    {
      "cell_type": "markdown",
      "metadata": {
        "id": "inB20dz5Prmi"
      },
      "source": [
        "---\n",
        "# 発展課題10X 2クロック遅延  \n",
        "\n",
        "2クロック遅延を実現するミーリーマシン表現を考え，FA-mealy.cのミーリーマシン定義部のみをそれに従って書き換えて実行し結果を確認せよ．またこのときの状態遷移図を示せ．  "
      ]
    },
    {
      "cell_type": "markdown",
      "metadata": {
        "id": "KevZT_pQP925"
      },
      "source": [
        "説明等はここに．"
      ]
    },
    {
      "cell_type": "code",
      "metadata": {
        "id": "pD-awJnGP__i"
      },
      "source": [
        "プログラムコード．"
      ],
      "execution_count": null,
      "outputs": []
    },
    {
      "cell_type": "markdown",
      "metadata": {
        "id": "c7rf54NjW5f2"
      },
      "source": [
        "---\n",
        "---\n",
        "# 課題提出法 \n",
        "\n",
        "筑波大学工学システム学類３年生向け．  \n",
        "FG24711 / FG34711．  \n",
        "\n",
        "必須課題は全て実施すること．\n",
        "発展課題はしなくともよいが，A+取得には発展課題を（全課題提出を通して）1つ以上実施していることが必要条件である．\n",
        "\n",
        "該当するmanabaに課題提出のエントリを設けるので，そこに本**Colab notebookを提出**すること．また，Google Drive上の該当する**Colab notebookへの共有リンク**を用意し合わせて提出すること．（採点時の効率を高めるために共有リンクの方を使うかもしれません）\n",
        "\n",
        "![共有可能なリンク](https://docs.google.com/drawings/d/e/2PACX-1vTDuOu8Z1nZFTqJ0yMKXedJwDnZx0hiKXoL56h21kQrDRj4C52aQX7Nn9QJZFZAgKV32lxTzuvNlory/pub?w=508&h=403)\n",
        "\n",
        "\n",
        "\n",
        "\n"
      ]
    },
    {
      "cell_type": "markdown",
      "metadata": {
        "id": "WL_8ZT6VQIYm"
      },
      "source": [
        "\n",
        "# 出典\n",
        "\n",
        "筑波大学工学システム学類  \n",
        "データ構造とアルゴリズム  \n",
        "担当：亀田能成  \n",
        "2021/06/23. ver.A  \n",
        "\n"
      ]
    }
  ]
}