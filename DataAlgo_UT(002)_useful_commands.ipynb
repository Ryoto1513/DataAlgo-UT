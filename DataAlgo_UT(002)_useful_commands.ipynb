{
  "nbformat": 4,
  "nbformat_minor": 0,
  "metadata": {
    "colab": {
      "provenance": [],
      "authorship_tag": "ABX9TyO2PDxa/hkp9UJx2D6v0rvH",
      "include_colab_link": true
    },
    "kernelspec": {
      "name": "python3",
      "display_name": "Python 3"
    }
  },
  "cells": [
    {
      "cell_type": "markdown",
      "metadata": {
        "id": "view-in-github",
        "colab_type": "text"
      },
      "source": [
        "<a href=\"https://colab.research.google.com/github/kameda-yoshinari/DataAlgo-UT/blob/main/DataAlgo_UT(002)_useful_commands.ipynb\" target=\"_parent\"><img src=\"https://colab.research.google.com/assets/colab-badge.svg\" alt=\"Open In Colab\"/></a>"
      ]
    },
    {
      "cell_type": "markdown",
      "metadata": {
        "id": "i2vKNOZ1ecz8"
      },
      "source": [
        "# 002: Useful commands and tips\n",
        "\n",
        "G-Colabでのプログラム作成や実行について、便利なコマンドやヒントを紹介します。\n",
        "\n",
        "---"
      ]
    },
    {
      "cell_type": "markdown",
      "metadata": {
        "id": "pNb8UTvw7tyK"
      },
      "source": [
        "# 日本に住んでいるので日本時間表示\n",
        "\n",
        "ランタイム接続でずっと日本時間表示して欲しい方はどうぞ．\n",
        "\n",
        "（日本の大学での授業で使うので日本時間表示が好ましい）"
      ]
    },
    {
      "cell_type": "code",
      "metadata": {
        "id": "dIGnoX537xlj"
      },
      "source": [
        "!echo \"デフォルトの時間表示 / UTC\"\n",
        "!date\n",
        "!echo \"日本時間表示 / JST\"\n",
        "!rm /etc/localtime\n",
        "!ln -s /usr/share/zoneinfo/Japan /etc/localtime\n",
        "!date"
      ],
      "execution_count": null,
      "outputs": []
    },
    {
      "cell_type": "markdown",
      "metadata": {
        "id": "iUmd631kKXO3"
      },
      "source": [
        "# インスタンスの調査\n",
        "\n",
        "ハイスペックなコンピュータは必要ありませんが、自分が使っているコンピュータを知っておくのは良いことです。  \n",
        "インスタンスではLinux（Ubuntu）システムが動いているので、コマンドはインスタンス上のbashで実行されます。  "
      ]
    },
    {
      "cell_type": "code",
      "metadata": {
        "id": "0ygOMeguebow"
      },
      "source": [
        "!uname -a"
      ],
      "execution_count": null,
      "outputs": []
    },
    {
      "cell_type": "markdown",
      "metadata": {
        "id": "a6hlHsTsSGe7"
      },
      "source": [
        "Linuxですね．もう少し詳しく．"
      ]
    },
    {
      "cell_type": "code",
      "metadata": {
        "id": "-7unrEXgKoNG"
      },
      "source": [
        "!echo \"Distribution is ...\"\n",
        "!cat /etc/issue\n",
        "!echo \"CPUs are ---\"\n",
        "!cat /proc/cpuinfo | grep \"model name\"\n",
        "!echo \"Memory size is ---\"\n",
        "!free -h\n",
        "!echo \"Disk is ---\"\n",
        "!df -h /"
      ],
      "execution_count": null,
      "outputs": []
    },
    {
      "cell_type": "markdown",
      "metadata": {
        "id": "x-ZOzPbeMRWI"
      },
      "source": [
        "# Google Driveをマウントしよう\n",
        "\n",
        "インスタンスにドライブをマウントし、インスタンスがファイルをgoogleドライブに保存できるようにしておくと良いでしょう。 \n",
        "ポップアップメニューが現れたら，指示されている通り，googleドライブで許可を出してください。    \n",
        "マウントしたgoogleドライブ上にファイルを保存することで、インスタンスがシャットダウンした後でも、生成されたファイルをgoogle ドライブで確認することができます（ローカルファイルはインスタンスをシャットダウンすると消えてしまいます）。\n"
      ]
    },
    {
      "cell_type": "code",
      "metadata": {
        "id": "8OuIz-i8MV3H"
      },
      "source": [
        "from google.colab import drive \n",
        "drive.mount('/content/drive')\n",
        "!echo \"Disk (your google drive if mounted) is ---\"\n",
        "!df -h /content/drive"
      ],
      "execution_count": null,
      "outputs": []
    },
    {
      "cell_type": "markdown",
      "metadata": {
        "id": "IBkWxTFfuOZD"
      },
      "source": [
        "ちなみにどうでもいいことですが，Ipythonはroot権限で実行しているので，当該ランタイム接続上ではなんでもやりたい放題です．  \n",
        "（この授業ではしないですが，Deep Learning系で必要になるツールの追加インストールなども簡単）"
      ]
    },
    {
      "cell_type": "code",
      "metadata": {
        "id": "_hjA6QokMylR"
      },
      "source": [
        "!whoami"
      ],
      "execution_count": null,
      "outputs": []
    },
    {
      "cell_type": "markdown",
      "metadata": {
        "id": "xvSRyzmYO1Aq"
      },
      "source": [
        "# マークダウンお得情報\n",
        "\n",
        "意外にあんまり書かれてないのですが，連続した文章中での改行はMarkdown記法的に\n",
        "\n",
        "* スペース２個を文末に設置（文末以外では無効）\n",
        "\n",
        "です．&lt;br&gt;でっ！という記述もあって間違っては無い(空行挿入というのもあるのですが個人的に却下)のですが，Markdown記法からは外れているので，ipynbの変換先によっては無視されたりして哀しい想いをすることあるかも．  \n",
        "これは結構闇深い問題で，markdown / new line / line break / newline / two space / double space / render ぐらいで検索すると闇のココロを持ったgeekに一歩近づけることでしょう‥\n"
      ]
    },
    {
      "cell_type": "markdown",
      "metadata": {
        "id": "_1GNjUd3m21U"
      },
      "source": [
        "#**Course Info**\n",
        "\n",
        "https://github.com/kameda-yoshinari/DataAlgo-UT  \n",
        "授業名: データ構造とアルゴリズム  \n",
        "筑波大学 工学システム学類  \n",
        "作者: 亀田能成  \n",
        "2022.04.27. - \n"
      ]
    }
  ]
}